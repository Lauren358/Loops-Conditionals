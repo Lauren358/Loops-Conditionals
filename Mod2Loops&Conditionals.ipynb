{
 "cells": [
  {
   "cell_type": "code",
   "execution_count": 9,
   "id": "158f19d1-0c83-4e9e-90ed-e7bc84f3cba0",
   "metadata": {},
   "outputs": [
    {
     "name": "stdin",
     "output_type": "stream",
     "text": [
      "Guess the secret number 8\n"
     ]
    },
    {
     "name": "stdout",
     "output_type": "stream",
     "text": [
      "too high\n"
     ]
    }
   ],
   "source": [
    "secret = 4\n",
    "guess= int(input(\"Guess the secret number\"))\n",
    "\n",
    "if guess > secret:\n",
    "    print(\"too high\")\n",
    "elif guess < secret:\n",
    "    print(\"too low\")\n",
    "else: print (\"just right\")\n",
    "\n"
   ]
  },
  {
   "cell_type": "raw",
   "id": "61f6fa5f-cfb8-4921-bb8c-906230b57d08",
   "metadata": {},
   "source": [
    "color = input(\"Enter color: \")\n",
    "size = input(\"Enter size: \")\n",
    "if color == \"green\" and size == \"small\":\n",
    "    print(\"pea\")\n",
    "if color == \"green\" and size != \"small\":\n",
    "    print(\"watermelon\")\n",
    "if color != \"green\" and size == \"small\":\n",
    "    print (\"cherry\")\n",
    "else: print(\"pumpkin\")\n"
   ]
  },
  {
   "cell_type": "code",
   "execution_count": 55,
   "id": "2ae15d32-063d-4495-9327-f22cb04065d4",
   "metadata": {},
   "outputs": [
    {
     "name": "stdout",
     "output_type": "stream",
     "text": [
      "3\n",
      "2\n",
      "1\n",
      "0\n"
     ]
    }
   ],
   "source": [
    "list=[]\n",
    "numbers = [3,2,1,0]\n",
    "for item in numbers:\n",
    "    print(item)\n",
    "    \n"
   ]
  },
  {
   "cell_type": "code",
   "execution_count": 77,
   "id": "d6f58f72-464c-46ec-9876-00fcb5ce3f83",
   "metadata": {},
   "outputs": [
    {
     "name": "stdout",
     "output_type": "stream",
     "text": [
      "too low\n",
      "too low\n",
      "too low\n",
      "too low\n",
      "too low\n",
      "too low\n",
      "7\n"
     ]
    }
   ],
   "source": [
    "\"\"\"Assign the value 7 to the variable guess_me, and the value 1 to the variable number. \n",
    "Write a while loop that compares number with guess_me. Print 'too low' if number is less than guess me. \n",
    "If number equals guess_me, print 'found it!' and then exit the loop. \n",
    "If number is greater than guess_me, print 'oops' and then exit the loop. Increment number at the end of the loop.\"\"\"\n",
    "guess_me = 7\n",
    "number= 1\n",
    "while guess_me != number:\n",
    "    if guess_me > number:\n",
    "        print(\"too low\")\n",
    "    if guess_me < number:\n",
    "        print(\"oops\")\n",
    "    if guess_me == number:\n",
    "        print(\"found it!\")\n",
    "    number +=1\n",
    "\n",
    "\n",
    "print (number)\n"
   ]
  },
  {
   "cell_type": "code",
   "execution_count": 57,
   "id": "b7e43cf2-fa93-4bf4-953e-89cd33785857",
   "metadata": {},
   "outputs": [
    {
     "name": "stdout",
     "output_type": "stream",
     "text": [
      "too low\n",
      "too low\n",
      "too low\n",
      "too low\n",
      "too low\n",
      "found it!\n"
     ]
    }
   ],
   "source": [
    "guess_me = 5 \n",
    "for number in range (10):\n",
    "    if guess_me == number:\n",
    "        print(\"found it!\")\n",
    "        break\n",
    "    if guess_me > number:\n",
    "        print(\"too low\")\n",
    "    if guess_me < number:\n",
    "        print(\"oops\")\n",
    "        break\n",
    "    \n"
   ]
  },
  {
   "cell_type": "code",
   "execution_count": null,
   "id": "bb8aa404-c64c-494c-bd6c-1a842bb5965d",
   "metadata": {},
   "outputs": [],
   "source": []
  }
 ],
 "metadata": {
  "kernelspec": {
   "display_name": "Python 3 (ipykernel)",
   "language": "python",
   "name": "python3"
  },
  "language_info": {
   "codemirror_mode": {
    "name": "ipython",
    "version": 3
   },
   "file_extension": ".py",
   "mimetype": "text/x-python",
   "name": "python",
   "nbconvert_exporter": "python",
   "pygments_lexer": "ipython3",
   "version": "3.12.4"
  }
 },
 "nbformat": 4,
 "nbformat_minor": 5
}
